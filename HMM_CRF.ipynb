{
 "cells": [
  {
   "cell_type": "markdown",
   "metadata": {},
   "source": [
    "#  <center>Speech & Natural Language Processing</center>\n",
    "#  <center>Assignment 2 : Sequence Labelling Models</center>\n",
    "## Suyash Damle\n",
    "## 15CS10057"
   ]
  },
  {
   "cell_type": "markdown",
   "metadata": {},
   "source": [
    "***\n",
    "## Q1: Discriminative vs Generative Models\n",
    "***\n",
    "#### A classification model is said to be Discriminative if it tries to learn and maximize the probability: P(y | x). It takes an input and outputs a classification according to above principle. Classifiers *not* working with probability, but doing similar tasks (such as neural nets) are also loosely called discriminative.\n",
    "\n",
    "\n",
    "#### On the other hand,  a generative model learns the probability:  P(x, y). It could start generating output from a single or no input, by assuming a default state.\n",
    "\n",
    "#### So :\n",
    "\n",
    "- #### Neural Net:  Discriminative\n",
    "- #### SVM : Discriminative\n",
    "- #### Logistic Regressor : Discriminative\n",
    "- #### Naive Bayes: Discriminative\n",
    "- #### LDA : Generative\n",
    "- #### Gaussian Mixture Model: Generative\n",
    "- #### Decision Tree : Discriminative\n",
    "- #### GANs : Generative\n"
   ]
  },
  {
   "cell_type": "code",
   "execution_count": 4,
   "metadata": {},
   "outputs": [],
   "source": [
    "import numpy as np\n",
    "import nltk\n",
    "from nltk.corpus import brown\n",
    "from nltk import bigrams, ngrams, trigrams \n",
    "import re\n",
    "from collections import Counter\n",
    "from matplotlib import pyplot as plt\n",
    "%matplotlib inline\n",
    "import math\n",
    "\n",
    "from sklearn.metrics import accuracy_score #just to calculate the accuracy score\n"
   ]
  },
  {
   "cell_type": "markdown",
   "metadata": {},
   "source": [
    "### Data Import"
   ]
  },
  {
   "cell_type": "code",
   "execution_count": 33,
   "metadata": {},
   "outputs": [
    {
     "name": "stdout",
     "output_type": "stream",
     "text": [
      "57240\n",
      "100\n",
      "[[(None, 'START'), ('In', 'ADP'), ('this', 'DET'), ('work', 'NOUN'), (',', '.'), ('his', 'DET'), ('use', 'NOUN'), ('of', 'ADP'), ('non-color', 'NOUN'), ('is', 'VERB'), ('startling', 'ADJ'), ('and', 'CONJ'), ('skillful', 'ADJ'), ('.', '.')], [(None, 'START'), ('The', 'DET'), ('sweep', 'NOUN'), ('of', 'ADP'), ('space', 'NOUN'), (',', '.'), ('the', 'DET'), ('delicate', 'ADJ'), ('counterbalance', 'NOUN'), ('of', 'ADP'), ('the', 'DET'), ('white', 'ADJ'), ('masses', 'NOUN'), (',', '.'), ('the', 'DET'), ('over-all', 'ADJ'), ('completeness', 'NOUN'), ('and', 'CONJ'), ('unity', 'NOUN'), (',', '.'), ('the', 'DET'), ('originality', 'NOUN'), ('and', 'CONJ'), ('imagination', 'NOUN'), (',', '.'), ('all', 'PRT'), ('entitle', 'VERB'), ('it', 'PRON'), ('to', 'PRT'), ('be', 'VERB'), ('called', 'VERB'), ('an', 'DET'), ('authentic', 'ADJ'), ('masterpiece', 'NOUN'), ('.', '.')]]\n"
     ]
    }
   ],
   "source": [
    "sents=brown.tagged_sents(tagset='universal')\n",
    "sents=[sentence for sentence in sents]  # the entire corpus - sentences as collection of (words,tags). The NLTK...\n",
    "                                        # ...  list types are custom \"lazy\" types and could not be directly edited\n",
    "sents_train=sents[:-100]\n",
    "sents_test=sents[-100:]\n",
    "for sentence in sents_train:\n",
    "    sentence.insert(0,(None,'START'))\n",
    "    #sentence.append((None,'END'))\n",
    "print (len(sents_train))\n",
    "print (len(sents_test))\n",
    "print (sents_train[-2:])"
   ]
  },
  {
   "cell_type": "markdown",
   "metadata": {},
   "source": [
    "### Creating required data collections"
   ]
  },
  {
   "cell_type": "code",
   "execution_count": 6,
   "metadata": {},
   "outputs": [],
   "source": [
    "word_dict={}\n",
    "tag_dict={}\n",
    "tag_bigram_dict={}\n",
    "tag_obs_dict={}\n",
    "for sentence in sents_train:\n",
    "    for x in sentence:\n",
    "        word=x[0]\n",
    "        tag=x[1]\n",
    "        if word not in word_dict:\n",
    "            word_dict[word]=0\n",
    "        if tag not in tag_dict:\n",
    "            tag_dict[tag]=0\n",
    "        if (tag,word) not in tag_obs_dict:\n",
    "            tag_obs_dict[(tag,word)]=0\n",
    "            \n",
    "        word_dict[word]+=1\n",
    "        tag_dict[tag]+=1\n",
    "        tag_obs_dict[(tag,word)]+=1\n",
    "\n",
    "    for x in nltk.bigrams(sentence):\n",
    "        tag1=x[0][1]\n",
    "        tag2=x[1][1]\n",
    "        if (tag1,tag2)not in tag_bigram_dict:\n",
    "            tag_bigram_dict[(tag1,tag2)]=0\n",
    "            \n",
    "        tag_bigram_dict[(tag1,tag2)]+=1"
   ]
  },
  {
   "cell_type": "markdown",
   "metadata": {},
   "source": [
    "\n",
    "\n",
    "***\n",
    "## Q2 : The HMM Model\n",
    "***"
   ]
  },
  {
   "cell_type": "markdown",
   "metadata": {},
   "source": [
    "#### Creating function to train the HMM model"
   ]
  },
  {
   "cell_type": "code",
   "execution_count": 40,
   "metadata": {},
   "outputs": [],
   "source": [
    "# Global variables\n",
    "tag_bigram_counts={}\n",
    "tag_obs_counts={}"
   ]
  },
  {
   "cell_type": "code",
   "execution_count": 41,
   "metadata": {},
   "outputs": [],
   "source": [
    "def train_hmm(k=1):\n",
    "    # uses Laplacian Smoothing with the parameter k supplied\n",
    "    # needs the data created in previous stage\n",
    "    global tag_bigram_counts,tag_obs_counts\n",
    "    \n",
    "    states_size=len(tag_dict)\n",
    "    vocab_size=len(word_dict)\n",
    "    tag_bigram_dict_new=tag_bigram_dict.copy()\n",
    "    tag_obs_dict_new=tag_obs_dict.copy()\n",
    "\n",
    "    \n",
    "    for token in tag_bigram_dict_new:\n",
    "        t1=token[0]\n",
    "        if t1 not in tag_bigram_counts:\n",
    "            tag_bigram_counts[t1]=0\n",
    "        tag_bigram_counts[t1]+=tag_bigram_dict_new[token]\n",
    "        \n",
    "    for token in tag_obs_dict_new:\n",
    "        t1=token[0]\n",
    "        if t1 not in tag_obs_counts:\n",
    "            tag_obs_counts[t1]=0\n",
    "        tag_obs_counts[t1]+=tag_obs_dict_new[token]\n",
    "        \n",
    "        \n",
    "    for token in tag_bigram_dict_new:\n",
    "        t1=token[0]\n",
    "        tag_bigram_dict_new[token]+=k\n",
    "        tag_bigram_dict_new[token]/=(float(tag_bigram_counts[t1])+k*states_size)\n",
    "        if tag_bigram_dict_new[token]>1:\n",
    "            print(token, tag_bigram_dict_new[token])\n",
    "    tag_bigram_dict_new['DEFAULT_VAL']=1.0/states_size\n",
    "        \n",
    "    for token in tag_obs_dict_new:\n",
    "        t1=token[0]\n",
    "        t2=token[1]\n",
    "        tag_obs_dict_new[(t1,t2)]+=k\n",
    "        tag_obs_dict_new[(t1,t2)]/=(float(tag_obs_counts[t1])+k*states_size)\n",
    "    tag_obs_dict_new['DEFAULT_VAL']=1.0/states_size\n",
    "        \n",
    "    return tag_bigram_dict_new,tag_obs_dict_new"
   ]
  },
  {
   "cell_type": "markdown",
   "metadata": {},
   "source": [
    "#### Function to test HMM using Viterbi Algorithm"
   ]
  },
  {
   "cell_type": "code",
   "execution_count": 42,
   "metadata": {},
   "outputs": [],
   "source": [
    "def viterbi_predict(trans_prob,obs_prob,string,k=1):\n",
    "    '''\n",
    "    trans_prob: the dict of <state_i, state_j> tuples\n",
    "    obs_prob: the dict of <state, observation> tuples\n",
    "    string: a list of words of the required sentence in the right order\n",
    "    '''\n",
    "    states_size=len(tag_dict)\n",
    "    vocab_size=len(word_dict)\n",
    "    tags_list=list(tag_dict.keys())\n",
    "    mat=np.zeros((len(string),states_size))\n",
    "    mat_backtrack=np.zeros((len(string),states_size))\n",
    "    \n",
    "    #### initialization phase - for size=0 row ##########\n",
    "    for idx in range(states_size):\n",
    "        tuple1=('START',tags_list[idx])\n",
    "        tuple2=(tags_list[idx],string[0])\n",
    "        tr_prob=0.\n",
    "        ob_prob=0.\n",
    "        if tuple1 in trans_prob:\n",
    "            tr_prob=trans_prob[tuple1]\n",
    "        else:\n",
    "            tr_prob=0.\n",
    "            \n",
    "        if tuple2 in obs_prob:\n",
    "            ob_prob=obs_prob[tuple2]\n",
    "        else:\n",
    "            ob_prob=(1.0*k)/(tag_obs_counts[tags_list[idx]]+k*states_size)\n",
    "        \n",
    "    \n",
    "        mat[0][idx]=np.log2(tr_prob*ob_prob)\n",
    "        mat_backtrack[0][idx]=tags_list.index('START')\n",
    "    ####################################################\n",
    "    \n",
    "    #### Dynamic Programming phase begins here ##########\n",
    "    for str_idx in range(1,len(string)):\n",
    "        for state_idx_l,state_l in enumerate(tags_list):  # future state - l\n",
    "            max_val=-1*np.inf\n",
    "            max_val_state=-1\n",
    "            for state_idx_k,state_k in enumerate(tags_list):  # prev. state - k\n",
    "                term1=mat[str_idx-1][state_idx_k]\n",
    "                term2=0.\n",
    "                term3=0.\n",
    "                \n",
    "                if (state_k,state_l) in trans_prob:\n",
    "                    term2=trans_prob[(state_k,state_l)]\n",
    "                else:\n",
    "                    term2=(k*1.)/(tag_bigram_counts[state_k]+k*states_size)\n",
    "                    \n",
    "                if(state_l,string[str_idx]) in obs_prob:\n",
    "                    term3=obs_prob[(state_l,string[str_idx])]\n",
    "                else:\n",
    "                    term3=(k*1.)/(tag_obs_counts[state_k]+k*states_size)\n",
    "                    \n",
    "                term_final=term1+np.log2(term2)+np.log2(term3)\n",
    "                \n",
    "                if term_final > max_val:\n",
    "                    max_val=term_final\n",
    "                    max_val_state=state_idx_k\n",
    "                    \n",
    "            mat[str_idx][state_idx_l]=max_val\n",
    "            mat_backtrack[str_idx][state_idx_l]=max_val_state\n",
    "    #########################################################\n",
    "    \n",
    "    \n",
    "    #### Back-Tracking from here #############################\n",
    "    # the final state is being taken as implicit\n",
    "    \n",
    "    tags_sequence=[]\n",
    "    this_state_idx=np.argmax(mat[len(string)-1])\n",
    "    this_state_val=tags_list[this_state_idx]\n",
    "    tags_sequence.insert(0,this_state_val)\n",
    "    prev_state_idx=mat_backtrack[len(string)-1][this_state_idx]\n",
    "    for str_idx in range(len(string)-2,-1,-1):\n",
    "        this_state_val=tags_list[int(prev_state_idx)]\n",
    "        tags_sequence.insert(0,this_state_val)\n",
    "        prev_state_idx=mat_backtrack[str_idx][int(prev_state_idx)]\n",
    "        \n",
    "    return tags_sequence\n",
    "    "
   ]
  },
  {
   "cell_type": "markdown",
   "metadata": {},
   "source": [
    "#### The controller function for the HMM training and testing"
   ]
  },
  {
   "cell_type": "code",
   "execution_count": 43,
   "metadata": {},
   "outputs": [],
   "source": [
    "def driver_hmm(k_val=1):\n",
    "    '''\n",
    "    The main controller function\n",
    "    '''\n",
    "    np.seterr(divide='ignore')\n",
    "    k=k_val\n",
    "    trans_prob, obs_prob=train_hmm(k=k)\n",
    "    true_tag=[]\n",
    "    predicted_tags=[]\n",
    "    for sentence in sents_test:\n",
    "        test_sentence=[]\n",
    "        for token in sentence:\n",
    "            test_sentence.append(token[0])\n",
    "            true_tag.append(token[1])\n",
    "        pred_tags=viterbi_predict(trans_prob,obs_prob,test_sentence,k=k)\n",
    "        predicted_tags.extend(pred_tags)\n",
    "    accuracy=accuracy_score(true_tag,predicted_tags)\n",
    "    return accuracy"
   ]
  },
  {
   "cell_type": "code",
   "execution_count": 44,
   "metadata": {},
   "outputs": [
    {
     "name": "stdout",
     "output_type": "stream",
     "text": [
      "0.9332213355732886\n"
     ]
    },
    {
     "data": {
      "image/png": "[encoded data removed]",
      "text/plain": [
       "<Figure size 432x288 with 1 Axes>"
      ]
     },
     "metadata": {},
     "output_type": "display_data"
    }
   ],
   "source": [
    "k_vals=[0.0001,0.001,0.01,0.1]\n",
    "accuracy_scores=[]\n",
    "for k_val in k_vals:\n",
    "    accuracy_scores.append(driver_hmm(k_val=k_val))\n",
    "    \n",
    "plt.plot(k_vals,accuracy_scores)\n",
    "plt.xlabel('laplacian smoothing parameter')\n",
    "plt.ylabel('accuracies')\n",
    "plt.show\n",
    "\n",
    "print(accuracy_scores[0]) # printing the best value"
   ]
  },
  {
   "cell_type": "markdown",
   "metadata": {},
   "source": [
    "***\n",
    "\n",
    "## Q 3 : The CRF model\n",
    "***\n",
    "\n",
    "\n",
    "#### The following features are added : \n",
    "\n",
    "- *prefix-1, prefix-2, prefix-3* :  The prefix upto the stated length of the word. Appearance of modifiers in the prefix, such as \"un-\"(as in uncomfortable) or \"a-\" (as in asymmetrical) or \"pre-\", etc often indicate **Adjective** or **Adverbs**\n",
    "\n",
    "\n",
    "- *suffix-1, suffix-2, suffix-3* : For the same reason as above - presence of suffixes could indicate different POSs: eg: \"-ity\" as in \"inactivity\" indicates **Noun**, \"-ness\" as in \"sadness\" indicates **Adjective**\n",
    "\n",
    "\n",
    "- *is_first* : Whether the word is the first word in the sentence. First words in english are usually **Nouns or Pronouns or Determinants**\n",
    "\n",
    "\n",
    "- *is_last* : Sentences usually end with object of the verb; ie, they are likely to be **Nouns**\n",
    "\n",
    "\n",
    "- *is_upper* : Whether the word is in uppercase. Would indicate acronyms - usually **Nouns**\n",
    "\n",
    "\n",
    "- *is_title* : Whether first letter is capitalized. Indicates either beginning of sentence or **Proper Noun**\n",
    "\n",
    "\n",
    "- *is_digit* : Universal Tagset has **NUM** tag for numerical data\n",
    "\n",
    "\n",
    "- *prev-1* : The previous word (if existent). The preceding word could be very helpful in determining this word's tag: an article could indicate the beginning of a noun phrase. So, this word is likely to be **Noun or Adjective or Pronoun**\n",
    "\n",
    "\n",
    "- *prev-1_is_title* :  Whether the previous word has capitalized first letter\n",
    "\n",
    "\n",
    "- *prev-1_is_upper, prev-1_is_digit* : Whether the previous words is in uppercase / is numerical.\n",
    "\n",
    "\n",
    "- *next-1, and its features* : The very next word. As before, the next word and its features are helpful.\n",
    "\n",
    "- *next-2  &  prev-2* : The next-to-next  and the prev-to-prev  terms"
   ]
  },
  {
   "cell_type": "code",
   "execution_count": 7,
   "metadata": {},
   "outputs": [],
   "source": [
    "import sklearn_crfsuite\n",
    "from sklearn_crfsuite import scorers\n",
    "from sklearn_crfsuite import metrics"
   ]
  },
  {
   "cell_type": "code",
   "execution_count": 23,
   "metadata": {},
   "outputs": [],
   "source": [
    "def word_features(sent,idx,features_list=None, bias=1.):\n",
    "    word=sent[idx]\n",
    "    \n",
    "    #The list of all available features. These would be added one-by-one to test their effectiveness\n",
    "    all_features={\n",
    "        'bias':bias,\n",
    "        'word':word.lower(),\n",
    "        'prefix-1': word.lower()[0],\n",
    "        'prefix-2': word.lower()[:2],\n",
    "        'prefix-3': word.lower()[:3],\n",
    "        'suffix-1': word.lower()[-1],\n",
    "        'suffix-2': word.lower()[-2:],\n",
    "        'suffix-3': word.lower()[-3:],\n",
    "        'is_first': idx==0,\n",
    "        'is_last' : idx==len(sent)-1,\n",
    "        'is_upper': word.isupper(),\n",
    "        'is_title': word.istitle(),\n",
    "        'is_digit': word.isdigit(),\n",
    "        'prev-2':sent[idx-2].lower() if idx>1 else '',\n",
    "        'next-2':sent[idx+2].lower() if idx<len(sent)-2 else ''\n",
    "    }\n",
    "    \n",
    "    # features corresponding to prev word\n",
    "    if idx>0:\n",
    "        word_prev=sent[idx-1]\n",
    "        all_features.update({\n",
    "            'prev-1': word_prev,\n",
    "            'prev-1_is_title':word_prev.istitle(),\n",
    "            'prev-1_is_upper':word_prev.isupper(),\n",
    "            'prev-1_is_digit':word_prev.isdigit(),\n",
    "        })\n",
    "        \n",
    "    # features of the next word\n",
    "    if idx<len(sent)-1:\n",
    "        word_next=sent[len(sent)-1]\n",
    "        all_features.update({\n",
    "            'next-1': word_next,\n",
    "            'next-1_is_title':word_next.istitle(),\n",
    "            'next-1_is_upper':word_next.isupper(),\n",
    "            'next-1_is_digit':word_next.isdigit(),\n",
    "        })\n",
    "        \n",
    "    if features_list is not None:\n",
    "        # selectively add features and return those\n",
    "        new_features={}\n",
    "        new_features['bias']=all_features['bias']  #default feature\n",
    "        new_features['word']=all_features['word']  #default feature\n",
    "        for feat  in features_list:\n",
    "            if feat in all_features:\n",
    "                new_features[feat]=all_features[feat]\n",
    "        \n",
    "        return new_features\n",
    "        \n",
    "    return all_features\n",
    "\n",
    "def sent_features(sent,features=None):    \n",
    "    '''\n",
    "    Returns the set of features for this sentence\n",
    "    '''\n",
    "    sentence=[]\n",
    "    for idx,(word,tag) in enumerate(sent):\n",
    "        if word is None:\n",
    "            continue\n",
    "        sentence.append(word)\n",
    "    return [word_features(sentence,i,features_list=features) for i in range(len(sentence))]\n",
    "\n",
    "def sent_labels(sent):\n",
    "    '''\n",
    "    Returns the lables sequence for this sentence\n",
    "    '''\n",
    "    pos_tags=[]\n",
    "    for idx,(word,tag) in enumerate(sent):\n",
    "        if word is None:\n",
    "            continue\n",
    "        pos_tags.append(tag)\n",
    "    return pos_tags"
   ]
  },
  {
   "cell_type": "markdown",
   "metadata": {},
   "source": [
    "### Proof of the fact that each of the stated feature adds some accuracy to the model: \n",
    "\n",
    "\n",
    "***\n",
    "- #### We would incrementaly add certain sets of features and find their effect on the performance wrt the base / previous models. \n",
    "- #### In the interest of quicker checking, *we could reduce the training sample* and work with smaller sets. Only relative performances would then be considered.\n",
    "***"
   ]
  },
  {
   "cell_type": "markdown",
   "metadata": {},
   "source": [
    "#### Helper Function to help with the testing of incremental addition of features"
   ]
  },
  {
   "cell_type": "code",
   "execution_count": 31,
   "metadata": {},
   "outputs": [],
   "source": [
    "def crf_feature_test(features,c1=0.1,c2=0.1,limit=20000):\n",
    "    LIMIT=limit # working with only 'LIMIT' no. of training samples\n",
    "    X_train=[]\n",
    "    y_train=[]\n",
    "    X_test=[]\n",
    "    y_test=[]\n",
    "\n",
    "    X_train=(sent_features(s,features) for s in sents_train[:LIMIT])\n",
    "    X_test=(sent_features(s,features) for s in sents_test)\n",
    "    y_train=[sent_labels(s) for s in sents_train[:LIMIT]]\n",
    "    y_test=[sent_labels(s) for s in sents_test]\n",
    "\n",
    "    crf = sklearn_crfsuite.CRF(\n",
    "        algorithm='lbfgs',\n",
    "        c1=c1,\n",
    "        c2=c2,\n",
    "        max_iterations=100,\n",
    "        all_possible_transitions=True\n",
    "    )\n",
    "    crf.fit(X_train, y_train)\n",
    "    y_pred=crf.predict(X_test)\n",
    "\n",
    "    labels=crf.classes_\n",
    "    accuracy=metrics.flat_accuracy_score(y_test,y_pred)\n",
    "    \n",
    "    return accuracy,y_test,y_pred"
   ]
  },
  {
   "cell_type": "markdown",
   "metadata": {},
   "source": [
    "***\n",
    "### Testing feature sets incrementally: "
   ]
  },
  {
   "cell_type": "markdown",
   "metadata": {},
   "source": [
    "#### MODEL 0 : The base model - only the bias and word itself"
   ]
  },
  {
   "cell_type": "code",
   "execution_count": 18,
   "metadata": {},
   "outputs": [
    {
     "name": "stdout",
     "output_type": "stream",
     "text": [
      "0.9307013859722806\n"
     ]
    }
   ],
   "source": [
    "accuracy_0,_,_=crf_feature_test([])\n",
    "print(accuracy_0)"
   ]
  },
  {
   "cell_type": "markdown",
   "metadata": {},
   "source": [
    "#### MODEL 1 : Adding : *Prefix & Suffix* Features to the base model"
   ]
  },
  {
   "cell_type": "code",
   "execution_count": 20,
   "metadata": {},
   "outputs": [
    {
     "name": "stdout",
     "output_type": "stream",
     "text": [
      "0.9449811003779924\n"
     ]
    }
   ],
   "source": [
    "features=['prefix-1','prefix-2','prefix-3','suffix-1','suffix-2','suffix-3']\n",
    "accuracy_1,_,_=crf_feature_test(features)\n",
    "print(accuracy_1)"
   ]
  },
  {
   "cell_type": "markdown",
   "metadata": {},
   "source": [
    "#### MODEL 2 :  Adding : *is_first,  is_last,  is_digit,  is_upper,  is_title *"
   ]
  },
  {
   "cell_type": "code",
   "execution_count": 21,
   "metadata": {},
   "outputs": [
    {
     "name": "stdout",
     "output_type": "stream",
     "text": [
      "0.9458210835783284\n"
     ]
    }
   ],
   "source": [
    "features=['prefix-1','prefix-2','prefix-3','suffix-1','suffix-2','suffix-3','is_first','is_last','is_digit','is_upper','is_title']\n",
    "accuracy_2,_,_=crf_feature_test(features)\n",
    "print(accuracy_2)"
   ]
  },
  {
   "cell_type": "markdown",
   "metadata": {},
   "source": [
    "#### MODEL 3 : Adding: *prev-1,  prev-1_is_upper,  prev-1_is_digit,  prev-1_is_title*"
   ]
  },
  {
   "cell_type": "code",
   "execution_count": 24,
   "metadata": {},
   "outputs": [
    {
     "name": "stdout",
     "output_type": "stream",
     "text": [
      "0.9517009659806804\n"
     ]
    }
   ],
   "source": [
    "features=['prefix-1','prefix-2','prefix-3','suffix-1','suffix-2','suffix-3','is_first','is_last','is_digit',\n",
    "          'is_upper','is_title','prev-1','prev-1_is_digit','prev-1_is_title','prev-1_is_upper']\n",
    "accuracy_3,_,_=crf_feature_test(features)\n",
    "print(accuracy_3)"
   ]
  },
  {
   "cell_type": "markdown",
   "metadata": {},
   "source": [
    "#### MODEL 4 : Adding:  *next-1, next-1_is_digit,  next-1_is_upper,  next-1_is_title  *"
   ]
  },
  {
   "cell_type": "code",
   "execution_count": 25,
   "metadata": {},
   "outputs": [
    {
     "name": "stdout",
     "output_type": "stream",
     "text": [
      "0.9525409491810164\n"
     ]
    }
   ],
   "source": [
    "features=['prefix-1','prefix-2','prefix-3','suffix-1','suffix-2','suffix-3','is_first','is_last','is_digit',\n",
    "          'is_upper','is_title','prev-1','prev-1_is_digit','prev-1_is_title','prev-1_is_upper',\n",
    "         'next-1','next-1_is_digit','next-1_is_title','next-1_is_upper']\n",
    "accuracy_4,_,_=crf_feature_test(features)\n",
    "print(accuracy_4)"
   ]
  },
  {
   "cell_type": "markdown",
   "metadata": {},
   "source": [
    "#### MODEL 5 : Adding : *next-2,  prev-2* : ie, next-to-next  & prev-to-prev words"
   ]
  },
  {
   "cell_type": "code",
   "execution_count": 26,
   "metadata": {},
   "outputs": [
    {
     "name": "stdout",
     "output_type": "stream",
     "text": [
      "0.9538009239815204\n"
     ]
    }
   ],
   "source": [
    "features=['prefix-1','prefix-2','prefix-3','suffix-1','suffix-2','suffix-3','is_first','is_last','is_digit',\n",
    "          'is_upper','is_title','prev-1','prev-1_is_digit','prev-1_is_title','prev-1_is_upper',\n",
    "         'next-1','next-1_is_digit','next-1_is_title','next-1_is_upper','prev-2','next-2']\n",
    "accuracy_5,_,_=crf_feature_test(features)\n",
    "print(accuracy_5)"
   ]
  },
  {
   "cell_type": "markdown",
   "metadata": {},
   "source": [
    "\n",
    "\n",
    "\n",
    "***\n",
    "- #### We could clearly see that as more sets of specific features are added, the accuracy (& hence, its performance) increases\n",
    "\n",
    "- #### The overall variation might depend on the way the features are incrementally added; however, the fact remains that adding these features does help the model\n",
    "***\n",
    "\n",
    "\n",
    "### Checking best values of L1 & L2 smoothing parameters:\n",
    "\n",
    "- #### As before, we would run the process on a small train set (10k) for different values of c1 and c2 individually and do a *grid search*"
   ]
  },
  {
   "cell_type": "code",
   "execution_count": 28,
   "metadata": {},
   "outputs": [
    {
     "name": "stdout",
     "output_type": "stream",
     "text": [
      "c1 =  0.0001 ; c2 =  0.0001  : accuracy =  0.9399412011759765\n",
      "c1 =  0.0001 ; c2 =  0.001  : accuracy =  0.9428811423771525\n",
      "c1 =  0.0001 ; c2 =  0.01  : accuracy =  0.9470810583788324\n",
      "c1 =  0.0001 ; c2 =  0.1  : accuracy =  0.9454010919781605\n",
      "c1 =  0.001 ; c2 =  0.0001  : accuracy =  0.9399412011759765\n",
      "c1 =  0.001 ; c2 =  0.001  : accuracy =  0.9445611087778244\n",
      "c1 =  0.001 ; c2 =  0.01  : accuracy =  0.9475010499790004\n",
      "c1 =  0.001 ; c2 =  0.1  : accuracy =  0.9449811003779924\n",
      "c1 =  0.01 ; c2 =  0.0001  : accuracy =  0.9487610247795044\n",
      "c1 =  0.01 ; c2 =  0.001  : accuracy =  0.9479210415791685\n",
      "c1 =  0.01 ; c2 =  0.01  : accuracy =  0.9470810583788324\n",
      "c1 =  0.01 ; c2 =  0.1  : accuracy =  0.9449811003779924\n",
      "c1 =  0.1 ; c2 =  0.0001  : accuracy =  0.9470810583788324\n",
      "c1 =  0.1 ; c2 =  0.001  : accuracy =  0.9458210835783284\n",
      "c1 =  0.1 ; c2 =  0.01  : accuracy =  0.9470810583788324\n",
      "c1 =  0.1 ; c2 =  0.1  : accuracy =  0.9475010499790004\n"
     ]
    }
   ],
   "source": [
    "c1_list=[0.0001,0.001,0.01,0.1]\n",
    "c2_list=[0.0001,0.001,0.01,0.1]\n",
    "for c1 in c1_list:\n",
    "    for c2 in c2_list:\n",
    "        # running test with ALL features\n",
    "        acc,_,_=crf_feature_test(None,c1=c1,c2=c2,limit=10000)\n",
    "        print(\"c1 = \",c1,\"; c2 = \",c2,\" : accuracy = \",acc)"
   ]
  },
  {
   "cell_type": "markdown",
   "metadata": {},
   "source": [
    "***\n",
    "### Thus, although variation in accuracy scores is quite small, we nevertheless proceed with the combination that gave us the best performance :\n",
    "\n",
    "   **c1 = 0.01**\n",
    "\n",
    "   **c2 = 0.0001**\n",
    "   \n",
    "***\n",
    "\n",
    "   \n",
    "### Creating and testing a full-fledged model with all features and the c1, c2 values as found above:"
   ]
  },
  {
   "cell_type": "code",
   "execution_count": 34,
   "metadata": {},
   "outputs": [
    {
     "name": "stderr",
     "output_type": "stream",
     "text": [
      "/home/suyash/anaconda2/envs/py36/lib/python3.6/site-packages/sklearn/metrics/classification.py:1135: UndefinedMetricWarning: F-score is ill-defined and being set to 0.0 in labels with no predicted samples.\n",
      "  'precision', 'predicted', average, warn_for)\n"
     ]
    }
   ],
   "source": [
    "acc_final, y_test, y_pred=crf_feature_test(None,c1=0.01,c2=0.0001,limit=len(sents_train))\n",
    "f1_score=metrics.flat_f1_score(y_test,y_pred,average='weighted')"
   ]
  },
  {
   "cell_type": "markdown",
   "metadata": {},
   "source": [
    "### The final accuracy and f-score for CRF model"
   ]
  },
  {
   "cell_type": "code",
   "execution_count": 39,
   "metadata": {},
   "outputs": [
    {
     "name": "stdout",
     "output_type": "stream",
     "text": [
      "0.9509121303766002\n",
      "accuracy:  0.9542209155816883\n",
      "             precision    recall  f1-score   support\n",
      "\n",
      "          .       1.00      1.00      1.00       334\n",
      "        ADJ       0.87      0.89      0.88       140\n",
      "        ADP       0.95      0.97      0.96       283\n",
      "        ADV       0.88      0.88      0.88       124\n",
      "       CONJ       1.00      0.99      0.99        84\n",
      "        DET       1.00      1.00      1.00       295\n",
      "       NOUN       0.92      0.96      0.94       483\n",
      "        NUM       0.95      0.95      0.95        21\n",
      "       PRON       1.00      0.99      1.00       160\n",
      "        PRT       0.90      0.89      0.89        70\n",
      "       VERB       0.97      0.94      0.95       370\n",
      "          X       0.00      0.00      0.00        17\n",
      "\n",
      "avg / total       0.95      0.95      0.95      2381\n",
      "\n"
     ]
    },
    {
     "name": "stderr",
     "output_type": "stream",
     "text": [
      "/home/suyash/anaconda2/envs/py36/lib/python3.6/site-packages/sklearn/metrics/classification.py:1135: UndefinedMetricWarning: Precision and F-score are ill-defined and being set to 0.0 in labels with no predicted samples.\n",
      "  'precision', 'predicted', average, warn_for)\n"
     ]
    }
   ],
   "source": [
    "print(f1_score)\n",
    "print(\"accuracy: \",acc_final)\n",
    "print(metrics.flat_classification_report(y_test,y_pred))"
   ]
  },
  {
   "cell_type": "markdown",
   "metadata": {},
   "source": [
    "***\n",
    "## Final Results:\n",
    "\n",
    "- ### HMM accuracy on 100 test samples : 93.33%\n",
    "- ### CRF accuracy on 100 test samples : 95.422% ; F-score = 0.9509"
   ]
  }
 ],
 "metadata": {
  "kernelspec": {
   "display_name": "Python 3",
   "language": "python",
   "name": "python3"
  },
  "language_info": {
   "codemirror_mode": {
    "name": "ipython",
    "version": 3
   },
   "file_extension": ".py",
   "mimetype": "text/x-python",
   "name": "python",
   "nbconvert_exporter": "python",
   "pygments_lexer": "ipython3",
   "version": "3.6.5"
  }
 },
 "nbformat": 4,
 "nbformat_minor": 2
}
